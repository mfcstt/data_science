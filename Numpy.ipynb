{
  "nbformat": 4,
  "nbformat_minor": 0,
  "metadata": {
    "colab": {
      "provenance": [],
      "authorship_tag": "ABX9TyPWVkQeNiV4qr8527FD7a/0",
      "include_colab_link": true
    },
    "kernelspec": {
      "name": "python3",
      "display_name": "Python 3"
    },
    "language_info": {
      "name": "python"
    }
  },
  "cells": [
    {
      "cell_type": "markdown",
      "metadata": {
        "id": "view-in-github",
        "colab_type": "text"
      },
      "source": [
        "<a href=\"https://colab.research.google.com/github/mfcstt/data_science/blob/main/Numpy.ipynb\" target=\"_parent\"><img src=\"https://colab.research.google.com/assets/colab-badge.svg\" alt=\"Open In Colab\"/></a>"
      ]
    },
    {
      "cell_type": "code",
      "source": [
        "import numpy as np"
      ],
      "metadata": {
        "id": "GFMHt1LstpsQ"
      },
      "execution_count": null,
      "outputs": []
    },
    {
      "cell_type": "code",
      "source": [
        "list = [0,1,2,3,4,5,6]\n",
        "array = np.array(list)"
      ],
      "metadata": {
        "id": "1Bd0VWEetuKM"
      },
      "execution_count": null,
      "outputs": []
    },
    {
      "cell_type": "code",
      "execution_count": null,
      "metadata": {
        "colab": {
          "base_uri": "https://localhost:8080/"
        },
        "id": "EjiMbQ6FtGoT",
        "outputId": "ebaa86d5-ed22-4052-8230-db913ebcb6a9"
      },
      "outputs": [
        {
          "output_type": "stream",
          "name": "stdout",
          "text": [
            "<class 'list'>\n",
            "<class 'numpy.ndarray'>\n"
          ]
        }
      ],
      "source": [
        "print(type(list))\n",
        "print(type(array))\n",
        "\n"
      ]
    },
    {
      "cell_type": "code",
      "source": [
        "arr_zeros = np.zeros(10)\n",
        "print(arr_zeros)"
      ],
      "metadata": {
        "colab": {
          "base_uri": "https://localhost:8080/"
        },
        "id": "Exl9T2Eqt7Qc",
        "outputId": "5f9a65b9-c291-4bdc-a85b-3650de263b72"
      },
      "execution_count": null,
      "outputs": [
        {
          "output_type": "stream",
          "name": "stdout",
          "text": [
            "[0. 0. 0. 0. 0. 0. 0. 0. 0. 0.]\n"
          ]
        }
      ]
    },
    {
      "cell_type": "code",
      "source": [
        "array[0] = 9\n",
        "print(array)"
      ],
      "metadata": {
        "colab": {
          "base_uri": "https://localhost:8080/"
        },
        "id": "NZrJX8zLuCph",
        "outputId": "08265a9f-2aac-46cb-9179-c2efa6518ded"
      },
      "execution_count": null,
      "outputs": [
        {
          "output_type": "stream",
          "name": "stdout",
          "text": [
            "[9 1 2 3 4 5 6]\n"
          ]
        }
      ]
    },
    {
      "cell_type": "code",
      "source": [
        "matriz_zeros = np.zeros((5,3))\n",
        "print(matriz_zeros)"
      ],
      "metadata": {
        "colab": {
          "base_uri": "https://localhost:8080/"
        },
        "id": "rjgmhDNfuUhM",
        "outputId": "0c31fc71-c420-46d4-b008-0549b57e3c15"
      },
      "execution_count": null,
      "outputs": [
        {
          "output_type": "stream",
          "name": "stdout",
          "text": [
            "[[0. 0. 0.]\n",
            " [0. 0. 0.]\n",
            " [0. 0. 0.]\n",
            " [0. 0. 0.]\n",
            " [0. 0. 0.]]\n"
          ]
        }
      ]
    },
    {
      "cell_type": "code",
      "source": [
        "lista_de_notas = [9.8, 5.6, 7.8, 9.2, 6.7]\n",
        "notas = np.array(lista_de_notas)"
      ],
      "metadata": {
        "id": "7-jQjdyEuhMH"
      },
      "execution_count": null,
      "outputs": []
    },
    {
      "cell_type": "code",
      "source": [
        "print(\"Maximo\", notas.max())\n",
        "print(\"Minimo\", notas.min())\n",
        "print(\"Desvio Padrão\", notas.std())\n",
        "print(\"Media\", notas.mean())\n",
        "print(\"Posição do menor\", notas.argmin())"
      ],
      "metadata": {
        "colab": {
          "base_uri": "https://localhost:8080/"
        },
        "id": "8pcxPoTBu0vD",
        "outputId": "fcd7da67-f9b3-45fa-c64e-19b4d6058f5d"
      },
      "execution_count": null,
      "outputs": [
        {
          "output_type": "stream",
          "name": "stdout",
          "text": [
            "Maximo 9.8\n",
            "Minimo 5.6\n",
            "Desvio Padrão 1.5497096502248415\n",
            "Media 7.82\n",
            "Posição do menor 1\n"
          ]
        }
      ]
    },
    {
      "cell_type": "code",
      "source": [],
      "metadata": {
        "id": "PAPQvb6U-ZF4"
      },
      "execution_count": null,
      "outputs": []
    }
  ]
}