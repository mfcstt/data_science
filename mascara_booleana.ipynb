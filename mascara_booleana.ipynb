{
  "nbformat": 4,
  "nbformat_minor": 0,
  "metadata": {
    "colab": {
      "provenance": [],
      "authorship_tag": "ABX9TyPI/2Bxovi4jTqFsbpLsNVv",
      "include_colab_link": true
    },
    "kernelspec": {
      "name": "python3",
      "display_name": "Python 3"
    },
    "language_info": {
      "name": "python"
    }
  },
  "cells": [
    {
      "cell_type": "markdown",
      "metadata": {
        "id": "view-in-github",
        "colab_type": "text"
      },
      "source": [
        "<a href=\"https://colab.research.google.com/github/mfcstt/data_science/blob/main/mascara_booleana.ipynb\" target=\"_parent\"><img src=\"https://colab.research.google.com/assets/colab-badge.svg\" alt=\"Open In Colab\"/></a>"
      ]
    },
    {
      "cell_type": "code",
      "execution_count": null,
      "metadata": {
        "id": "_1KVvyhs-bcC"
      },
      "outputs": [],
      "source": [
        "import numpy as np\n"
      ]
    },
    {
      "cell_type": "code",
      "source": [
        "is_covid_positive = np.array([\"yes\", \"no\", \"no\", \"yes\", \"yes\", \"no\"])\n",
        "print(is_covid_positive)"
      ],
      "metadata": {
        "colab": {
          "base_uri": "https://localhost:8080/"
        },
        "id": "7h_qh0Ki_i0Y",
        "outputId": "e173c089-a282-48b3-d98b-3feed44fd49c"
      },
      "execution_count": null,
      "outputs": [
        {
          "output_type": "stream",
          "name": "stdout",
          "text": [
            "['yes' 'no' 'no' 'yes' 'yes' 'no']\n"
          ]
        }
      ]
    },
    {
      "cell_type": "code",
      "source": [
        "mask = (is_covid_positive == \"yes\")\n",
        "is_covid_positive[mask] = \"C19\"\n",
        "print(is_covid_positive)"
      ],
      "metadata": {
        "colab": {
          "base_uri": "https://localhost:8080/"
        },
        "id": "uLYBCPuI_y1-",
        "outputId": "a43ccf1a-fe71-4ac3-d557-a1c9792ef557"
      },
      "execution_count": null,
      "outputs": [
        {
          "output_type": "stream",
          "name": "stdout",
          "text": [
            "['C19' 'no' 'no' 'C19' 'C19' 'no']\n"
          ]
        }
      ]
    },
    {
      "cell_type": "code",
      "source": [
        "infected_people = np.array([80, 50 , 70 , 230, 10, 50])\n",
        "mask = infected_people >= 50\n",
        "print(mask)"
      ],
      "metadata": {
        "colab": {
          "base_uri": "https://localhost:8080/"
        },
        "id": "dyA4wjWHAyZT",
        "outputId": "3158600c-fb18-456d-da4f-eebfcd96159f"
      },
      "execution_count": null,
      "outputs": [
        {
          "output_type": "stream",
          "name": "stdout",
          "text": [
            "[ True  True  True  True False  True]\n"
          ]
        }
      ]
    }
  ]
}